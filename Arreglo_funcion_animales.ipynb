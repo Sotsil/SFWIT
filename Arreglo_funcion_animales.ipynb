{
  "nbformat": 4,
  "nbformat_minor": 0,
  "metadata": {
    "colab": {
      "name": "Arreglo_funcion_animales.ipynb",
      "provenance": [],
      "collapsed_sections": [],
      "authorship_tag": "ABX9TyMU21WsBYnsui1LgoD8mVpQ",
      "include_colab_link": true
    },
    "kernelspec": {
      "name": "python3",
      "display_name": "Python 3"
    },
    "language_info": {
      "name": "python"
    }
  },
  "cells": [
    {
      "cell_type": "markdown",
      "metadata": {
        "id": "view-in-github",
        "colab_type": "text"
      },
      "source": [
        "<a href=\"https://colab.research.google.com/github/Sotsil/SFWIT/blob/Initial/Arreglo_funcion_animales.ipynb\" target=\"_parent\"><img src=\"https://colab.research.google.com/assets/colab-badge.svg\" alt=\"Open In Colab\"/></a>"
      ]
    },
    {
      "cell_type": "code",
      "source": [
        "#Python 1\n",
        "#Crea una función que pueda sumar 2 números enteros.\n",
        "\n",
        "def Suma_enteros(X,Y):\n",
        "  return X+Y\n",
        "N1=int(input(\"Escribe el primer número: \"))\n",
        "N2= int(input(\"Escribe el segundo número: \"))\n",
        "print(\"La suma de los números es: \", Suma_enteros(N1,N2))\n"
      ],
      "metadata": {
        "colab": {
          "base_uri": "https://localhost:8080/"
        },
        "id": "_vnl4srvI5rT",
        "outputId": "c0e2b0be-1535-414e-e788-83eb6f8b98d5"
      },
      "execution_count": null,
      "outputs": [
        {
          "output_type": "stream",
          "name": "stdout",
          "text": [
            "Escribe el primer número: 25\n",
            "Escribe el segundo número: 30\n",
            "La suma de los números es:  55\n"
          ]
        }
      ]
    },
    {
      "cell_type": "code",
      "execution_count": null,
      "metadata": {
        "colab": {
          "base_uri": "https://localhost:8080/"
        },
        "id": "E_Pmgbt_BJMw",
        "outputId": "f7e8ffff-a66d-4182-bf6d-c3e2e08e52af"
      },
      "outputs": [
        {
          "output_type": "stream",
          "name": "stdout",
          "text": [
            "La suma del arreglo es:  87\n"
          ]
        }
      ],
      "source": [
        "#Python2\n",
        "#Suma de un arreglo\n",
        "#Teniendo un arreglo de enteros encuentra el resultado de la suma de los elementos del arreglo.\n",
        "\n",
        "Arreglo = [2,50,10,25]\n",
        "adicion = 0\n",
        "for i in Arreglo:\n",
        " adicion += i\n",
        "\n",
        "print(\"La suma del arreglo es: \", adicion)\n"
      ]
    },
    {
      "cell_type": "code",
      "source": [
        ""
      ],
      "metadata": {
        "id": "Vx35aKALI31D"
      },
      "execution_count": null,
      "outputs": []
    },
    {
      "cell_type": "code",
      "source": [
        "#Python2\n",
        "Arreglo = []\n",
        "usuario = \"s\"\n",
        "while usuario == \"s\":\n",
        "  num = int(input(\"Escribe un numero: \"))\n",
        "  Arreglo.append(num)\n",
        "  usuario = input(\"Escribe 's' si deseas agregar otro numero o 't' para terminar: \")\n",
        "adicion = 0\n",
        "for i in Arreglo:\n",
        " adicion += i\n",
        "print(\"La suma de los números es: \", adicion)"
      ],
      "metadata": {
        "colab": {
          "base_uri": "https://localhost:8080/"
        },
        "id": "tV6DUEC-DuGA",
        "outputId": "a46e6381-4f5d-4ca6-c135-a13a653af9f9"
      },
      "execution_count": null,
      "outputs": [
        {
          "output_type": "stream",
          "name": "stdout",
          "text": [
            "Escribe un numero: 10\n",
            "Escribe 's' si deseas agregar otro numero o 't' para terminar: s\n",
            "Escribe un numero: 65\n",
            "Escribe 's' si deseas agregar otro numero o 't' para terminar: s\n",
            "Escribe un numero: 40\n",
            "Escribe 's' si deseas agregar otro numero o 't' para terminar: t\n",
            "La suma de los numeros es:  115\n"
          ]
        }
      ]
    },
    {
      "cell_type": "code",
      "source": [
        "#Python3\n",
        "#Muéstrame un animal!\n",
        "#Crea un menú con una lista de animales.\n",
        "#Permite que el usuario pueda seleccionar el animal.\n",
        "#Muestra por consola un diseño del animal basado en la decisión del usuario.\n",
        "\n",
        "opcion = input(\"Escribe '1' si quieres ver un caballo, '2' si quieres ver un pez o '3' si quieres ver un conejo: \")\n",
        "if opcion == \"1\":\n",
        "  print(\"\"\"\\\n",
        "\n",
        "                                       ._ o o\n",
        "                                       \\_`-)|_\n",
        "                                    ,\"\"       \\ \n",
        "                                  ,\"  ## |   ಠ ಠ. \n",
        "                                ,\" ##   ,-\\__    `.\n",
        "                              ,\"       /     `--._;)\n",
        "                            ,\"     ## /\n",
        "                          ,\"   ##    /\n",
        "\n",
        "\n",
        "                    \"\"\")\n",
        "\n",
        "elif opcion == \"2\":\n",
        "\n",
        "  print(\"\"\"\\      \n",
        "\n",
        "                     |\\    o\n",
        "                     |  \\    o\n",
        "                |\\ /    .\\ o\n",
        "                | |       (\n",
        "                |/ \\     /\n",
        "                     |  /\n",
        "                     |/\n",
        "\n",
        "\n",
        "               \"\"\")\n",
        "\n",
        "\n",
        "\n",
        "elif opcion == \"3\":\n",
        "  print(\"\"\"\\ \n",
        "  \n",
        "                    //\n",
        "                   ('>\n",
        "                   /rr\n",
        "                  *\\))_\n",
        "     \n",
        "\n",
        "\n",
        "\n",
        "\"\"\")\n",
        "else: \n",
        "  print(\"opcion invalida\")"
      ],
      "metadata": {
        "colab": {
          "base_uri": "https://localhost:8080/"
        },
        "id": "xyTQHcsuHKsb",
        "outputId": "0916ea11-7773-4c8b-d2ca-b5547faba0c3"
      },
      "execution_count": null,
      "outputs": [
        {
          "output_type": "stream",
          "name": "stdout",
          "text": [
            "Escribe '1' si quieres ver un caballo, '2' si quieres ver un pez o '3' si quieres ver un conejo: 3\n",
            "\\ \n",
            "  \n",
            "                    //\n",
            "                   ('>\n",
            "                   /rr\n",
            "                  *\\))_\n",
            "     \n",
            "\n",
            "\n",
            "\n",
            "\n"
          ]
        }
      ]
    },
    {
      "cell_type": "code",
      "source": [
        ""
      ],
      "metadata": {
        "id": "rGs6f7mJOoSa"
      },
      "execution_count": null,
      "outputs": []
    }
  ]
}